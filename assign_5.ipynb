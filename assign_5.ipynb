{
 "cells": [
  {
   "cell_type": "markdown",
   "id": "1d786bed",
   "metadata": {},
   "source": [
    "# assignment_5\n",
    "1. dict={}\n",
    "2. 42\n",
    "3. Indexing\n",
    "4. It will throw key error\n",
    "5. Both True \n",
    "6. True,False\n",
    "7. spam['color']='black'\n",
    "8. Use pprint() to pretty print"
   ]
  }
 ],
 "metadata": {
  "kernelspec": {
   "display_name": "Python 3 (ipykernel)",
   "language": "python",
   "name": "python3"
  },
  "language_info": {
   "codemirror_mode": {
    "name": "ipython",
    "version": 3
   },
   "file_extension": ".py",
   "mimetype": "text/x-python",
   "name": "python",
   "nbconvert_exporter": "python",
   "pygments_lexer": "ipython3",
   "version": "3.9.12"
  }
 },
 "nbformat": 4,
 "nbformat_minor": 5
}
